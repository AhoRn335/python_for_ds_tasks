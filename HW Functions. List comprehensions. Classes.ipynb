{
 "cells": [
  {
   "cell_type": "markdown",
   "id": "1846cdd5",
   "metadata": {
    "ExecuteTime": {
     "end_time": "2023-06-16T11:08:23.474987Z",
     "start_time": "2023-06-16T11:08:23.466341Z"
    }
   },
   "source": [
    "В цьому наборі завдань попрацюємо з фукнціями, класами та list comprehensions.\n",
    "Нагадую синтаксис list comprehension \n",
    "- з умовою if:\n",
    "```\n",
    "newlist = [expression for item in iterable if condition == True]\n",
    "```\n",
    "\n",
    "- з умовою if...else:\n",
    "```\n",
    "newlist = [expression if condition == True else second_expression for item in iterable ]\n",
    "```"
   ]
  },
  {
   "cell_type": "markdown",
   "id": "306cbd4e",
   "metadata": {
    "ExecuteTime": {
     "end_time": "2023-06-15T10:01:54.759901Z",
     "start_time": "2023-06-15T10:01:54.754516Z"
    }
   },
   "source": [
    "1.Задана функція `strange_func`. \n",
    "Запустіть цю функцію на обчислення всіх елементів зі списку `input_list`. Результат обчислень запишіть у `output_list` та виведіть `output_list` на екран.\n",
    "\n",
    "Реалізуйте прохід всіх елементів списку `input_list` через цикл та через `list comprehension` - двома способами окремо."
   ]
  },
  {
   "cell_type": "code",
   "execution_count": 1,
   "id": "b5bab760",
   "metadata": {
    "ExecuteTime": {
     "end_time": "2023-06-20T15:40:45.930784Z",
     "start_time": "2023-06-20T15:40:45.928575Z"
    }
   },
   "outputs": [],
   "source": [
    "def strange_func(number: int) -> str:\n",
    "    if number < 0:\n",
    "        return \"слон\"\n",
    "    else:\n",
    "        return \"жираф\""
   ]
  },
  {
   "cell_type": "code",
   "execution_count": 2,
   "id": "61d82a3e",
   "metadata": {
    "ExecuteTime": {
     "end_time": "2023-06-20T15:40:45.938968Z",
     "start_time": "2023-06-20T15:40:45.932436Z"
    }
   },
   "outputs": [],
   "source": [
    "input_list = [14, -48, 26, 33, 50, 36, 47, -3, 32, -6, -39, -1, 14, -35, 31, -28, 32, 4, 33, 11, -7, 43, -5, 17, -33, -37, 45, -27, -29, 14]"
   ]
  },
  {
   "cell_type": "code",
   "execution_count": 3,
   "id": "8eb67fab",
   "metadata": {
    "ExecuteTime": {
     "end_time": "2023-06-20T15:40:45.946201Z",
     "start_time": "2023-06-20T15:40:45.940033Z"
    }
   },
   "outputs": [],
   "source": [
    "#list comprehension style\n",
    "output_list = [strange_func(el) for el in input_list]"
   ]
  },
  {
   "cell_type": "code",
   "execution_count": 4,
   "id": "36930966",
   "metadata": {
    "ExecuteTime": {
     "end_time": "2023-06-20T15:40:45.953353Z",
     "start_time": "2023-06-20T15:40:45.947363Z"
    }
   },
   "outputs": [],
   "source": [
    "#loop style\n",
    "output_list_loop = []\n",
    "for el in input_list:\n",
    "    output_list_loop.append(strange_func(el))"
   ]
  },
  {
   "cell_type": "code",
   "execution_count": 5,
   "id": "bc38823d",
   "metadata": {
    "ExecuteTime": {
     "end_time": "2023-06-20T15:40:45.963515Z",
     "start_time": "2023-06-20T15:40:45.954404Z"
    }
   },
   "outputs": [
    {
     "data": {
      "text/plain": [
       "True"
      ]
     },
     "execution_count": 5,
     "metadata": {},
     "output_type": "execute_result"
    }
   ],
   "source": [
    "output_list == output_list_loop"
   ]
  },
  {
   "cell_type": "markdown",
   "id": "39a81ffe",
   "metadata": {
    "ExecuteTime": {
     "end_time": "2023-06-15T10:11:44.344785Z",
     "start_time": "2023-06-15T10:11:44.338699Z"
    }
   },
   "source": [
    "Очікуваний результат: ```['жираф', 'слон', 'жираф', 'жираф', 'жираф', 'жираф', 'жираф', 'слон', 'жираф', 'слон', 'слон', 'слон', 'жираф', 'слон', 'жираф', 'слон', 'жираф', 'жираф', 'жираф', 'жираф', 'слон', 'жираф', 'слон', 'жираф', 'слон', 'слон', 'жираф', 'слон', 'слон', 'жираф']```"
   ]
  },
  {
   "cell_type": "markdown",
   "id": "cd421b5b",
   "metadata": {},
   "source": [
    "2.Напишіть функцію `custom_func`, яка приймає на вхід число, перевіряє, чи воно є цілочислельного типу, і якщо так, то перевіряє число на парність: \n",
    "- якщо парне - вертає це число в степені 3, \n",
    "- а якщо непарне - це число мінус 10.  \n",
    "\n",
    "Якщо ж число на вході не цілочисельного типу, функція вертає 0.  \n",
    "\n",
    "Запустіть цю функцію на обчислення всіх чисел зі списку `input_list`. Результат обчислень запишіть у `output_list` та виведіть `output_list` на екран. \n",
    "\n",
    "Реалізуйте прохід всіх чисел списку `input_list` через цикл та через `list comprehension` - двома способами окремо."
   ]
  },
  {
   "cell_type": "code",
   "execution_count": 6,
   "id": "384b00e0",
   "metadata": {
    "ExecuteTime": {
     "end_time": "2023-06-20T15:40:45.970637Z",
     "start_time": "2023-06-20T15:40:45.964859Z"
    }
   },
   "outputs": [],
   "source": [
    "input_list = [36, 11.1, 91, 93, 26, 12.3213, 69, 50, 58, 22, 77, 18, 24, 55, 11, 76, 10.111, 39, 49, 94, 34, 40, 13, 111.111, 26, 44, 11, 34, 30, 39, 84, 37, 16, 1]"
   ]
  },
  {
   "cell_type": "code",
   "execution_count": 7,
   "id": "a9220273",
   "metadata": {
    "ExecuteTime": {
     "end_time": "2023-06-20T15:40:45.978251Z",
     "start_time": "2023-06-20T15:40:45.971858Z"
    }
   },
   "outputs": [],
   "source": [
    "def custom_func(n):\n",
    "    if isinstance(n, int):\n",
    "        if n%2 == 0:\n",
    "            return n**3\n",
    "        else:\n",
    "            return n-10\n",
    "    else:\n",
    "        return 0"
   ]
  },
  {
   "cell_type": "code",
   "execution_count": 8,
   "id": "1133d5db",
   "metadata": {
    "ExecuteTime": {
     "end_time": "2023-06-20T15:40:45.986157Z",
     "start_time": "2023-06-20T15:40:45.979581Z"
    }
   },
   "outputs": [
    {
     "name": "stdout",
     "output_type": "stream",
     "text": [
      "[46656, 0, 81, 83, 17576, 0, 59, 125000, 195112, 10648, 67, 5832, 13824, 45, 1, 438976, 0, 29, 39, 830584, 39304, 64000, 3, 0, 17576, 85184, 1, 39304, 27000, 29, 592704, 27, 4096, -9]\n"
     ]
    }
   ],
   "source": [
    "#list comprehension style\n",
    "output_list = [custom_func(n) for n in input_list]\n",
    "print(output_list)"
   ]
  },
  {
   "cell_type": "code",
   "execution_count": 9,
   "id": "1ec14044",
   "metadata": {
    "ExecuteTime": {
     "end_time": "2023-06-20T15:40:45.993858Z",
     "start_time": "2023-06-20T15:40:45.987224Z"
    }
   },
   "outputs": [
    {
     "name": "stdout",
     "output_type": "stream",
     "text": [
      "[46656, 0, 81, 83, 17576, 0, 59, 125000, 195112, 10648, 67, 5832, 13824, 45, 1, 438976, 0, 29, 39, 830584, 39304, 64000, 3, 0, 17576, 85184, 1, 39304, 27000, 29, 592704, 27, 4096, -9]\n"
     ]
    }
   ],
   "source": [
    "#loop style\n",
    "output_list_loop = []\n",
    "for el in input_list:\n",
    "    output_list_loop.append(custom_func(el))\n",
    "    \n",
    "print(output_list_loop)"
   ]
  },
  {
   "cell_type": "code",
   "execution_count": 10,
   "id": "a72e02a2",
   "metadata": {
    "ExecuteTime": {
     "end_time": "2023-06-20T15:40:46.001885Z",
     "start_time": "2023-06-20T15:40:45.995018Z"
    }
   },
   "outputs": [
    {
     "data": {
      "text/plain": [
       "True"
      ]
     },
     "execution_count": 10,
     "metadata": {},
     "output_type": "execute_result"
    }
   ],
   "source": [
    "output_list == output_list_loop"
   ]
  },
  {
   "cell_type": "markdown",
   "id": "e2723875",
   "metadata": {
    "ExecuteTime": {
     "end_time": "2023-06-15T10:04:46.583145Z",
     "start_time": "2023-06-15T10:04:46.577899Z"
    }
   },
   "source": [
    "Очікуваний результат:\n",
    "```[46656, 0, 81, 83, 17576, 0, 59, 125000, 195112, 10648, 67, 5832, 13824, 45, 1, 438976, 0, 29, 39, 830584, 39304, 64000, 3, 0, 17576, 85184, 1, 39304, 27000, 29, 592704, 27, 4096, -9]```"
   ]
  },
  {
   "cell_type": "markdown",
   "id": "12db4919",
   "metadata": {
    "ExecuteTime": {
     "end_time": "2023-06-15T10:06:39.204299Z",
     "start_time": "2023-06-15T10:06:39.198232Z"
    }
   },
   "source": [
    "Аби програмно порівняти ваш результат за очікуваним - використайте код нижче:"
   ]
  },
  {
   "cell_type": "code",
   "execution_count": 11,
   "id": "84c13de2",
   "metadata": {
    "ExecuteTime": {
     "end_time": "2023-06-20T15:40:46.011677Z",
     "start_time": "2023-06-20T15:40:46.004413Z"
    }
   },
   "outputs": [
    {
     "data": {
      "text/plain": [
       "True"
      ]
     },
     "execution_count": 11,
     "metadata": {},
     "output_type": "execute_result"
    }
   ],
   "source": [
    "output_list == [46656, 0, 81, 83, 17576, 0, 59, 125000, 195112, 10648, 67, 5832, 13824, 45, 1, 438976, 0, 29, 39, 830584, 39304, 64000, 3, 0, 17576, 85184, 1, 39304, 27000, 29, 592704, 27, 4096, -9]"
   ]
  },
  {
   "cell_type": "markdown",
   "id": "602e8fd8",
   "metadata": {
    "ExecuteTime": {
     "end_time": "2023-06-15T09:50:40.693543Z",
     "start_time": "2023-06-15T09:50:40.680059Z"
    }
   },
   "source": [
    "3.Напишіть функцію, яка отримує список чисел і повертає інший список із квадратами чисел, які діляться на 2 із вихідного списку. Наприклад, якщо на вході список [1,2,3,4], то на виході буде список [4,8].\n",
    "\n",
    "Запустіть функцію на вхідних списках `numbers_1`, `numbers_2`, `numbers_3` та виведіть результат роботи фукнції на екран."
   ]
  },
  {
   "cell_type": "code",
   "execution_count": 12,
   "id": "4ed96c9d",
   "metadata": {
    "ExecuteTime": {
     "end_time": "2023-06-20T15:40:46.019038Z",
     "start_time": "2023-06-20T15:40:46.012895Z"
    }
   },
   "outputs": [],
   "source": [
    "numbers_1 = [1, 2, 3, 4, 5, 6, 7, 8, 9, 10]\n",
    "numbers_2 = [-18, 35, 50, 2, -39, 8, -39, -15, 14, -42]\n",
    "numbers_3 = [-3.1, 1.11, 3.48, 4.48, 4.68, -1.59, -1.8, 1.76, 4.7, 2.0]"
   ]
  },
  {
   "cell_type": "code",
   "execution_count": 13,
   "id": "d8b1a5d7",
   "metadata": {
    "ExecuteTime": {
     "end_time": "2023-06-20T15:40:46.026411Z",
     "start_time": "2023-06-20T15:40:46.021353Z"
    }
   },
   "outputs": [],
   "source": [
    "def squares(num_list):\n",
    "    new_num_list = [num**2 for num in num_list if (num**2)%2 == 0]\n",
    "    return new_num_list"
   ]
  },
  {
   "cell_type": "code",
   "execution_count": 14,
   "id": "9bff5afd",
   "metadata": {
    "ExecuteTime": {
     "end_time": "2023-06-20T15:40:46.034013Z",
     "start_time": "2023-06-20T15:40:46.027764Z"
    }
   },
   "outputs": [
    {
     "name": "stdout",
     "output_type": "stream",
     "text": [
      "[4, 16, 36, 64, 100]\n",
      "[324, 2500, 4, 64, 196, 1764]\n",
      "[4.0]\n"
     ]
    }
   ],
   "source": [
    "for l in [numbers_1, numbers_2, numbers_3]:\n",
    "    print(squares(l))"
   ]
  },
  {
   "cell_type": "markdown",
   "id": "96fead27",
   "metadata": {
    "ExecuteTime": {
     "end_time": "2023-06-15T10:18:22.220464Z",
     "start_time": "2023-06-15T10:18:22.215833Z"
    }
   },
   "source": [
    "Очікуваний результат:\n",
    "\n",
    "```\n",
    "    [4, 16, 36, 64, 100]\n",
    "    [324, 2500, 4, 64, 196, 1764]\n",
    "    [4.0]\n",
    "```"
   ]
  },
  {
   "cell_type": "markdown",
   "id": "93830499",
   "metadata": {},
   "source": [
    "4. Наданий список фруктів. Запишіть у новий список лише ті фрукти, які містять у своїй назві літеру `a`. Виведіть фінальний список на екран.\n",
    "\n",
    "Виконайте завдання із використанням циклу, та через `list comprehension` - двома способами окремо.  \n",
    "Увага! В цьому завданні логіку перевірки чи містить рядок літеру можна винести у функцію. Але якщо не виносити, то реалізація з `list comprehension` буде цікавішою :)"
   ]
  },
  {
   "cell_type": "code",
   "execution_count": 15,
   "id": "9d52d585",
   "metadata": {
    "ExecuteTime": {
     "end_time": "2023-06-20T15:40:46.041294Z",
     "start_time": "2023-06-20T15:40:46.035217Z"
    }
   },
   "outputs": [],
   "source": [
    "fruits = [\"apple\", \"banana\", \"cherry\", \"date\", \"elderberry\", \"fig\", \"grape\", \"honeydew\", \"indian prune\", \"jackfruit\", \"kiwi\", \"lemon\", \"mango\", \"nectarine\", \"orange\", \"pineapple\", \"quince\", \"raspberry\", \"strawberry\", \"tangerine\", \"ugli fruit\", \"victoria plum\", \"watermelon\", \"xigua\", \"yellow passionfruit\", \"zucchini\"]"
   ]
  },
  {
   "cell_type": "code",
   "execution_count": 16,
   "id": "e503441f",
   "metadata": {
    "ExecuteTime": {
     "end_time": "2023-06-20T15:40:46.049205Z",
     "start_time": "2023-06-20T15:40:46.042434Z"
    }
   },
   "outputs": [
    {
     "name": "stdout",
     "output_type": "stream",
     "text": [
      "['apple', 'banana', 'date', 'grape', 'indian prune', 'jackfruit', 'mango', 'nectarine', 'orange', 'pineapple', 'raspberry', 'strawberry', 'tangerine', 'victoria plum', 'watermelon', 'xigua', 'yellow passionfruit']\n"
     ]
    }
   ],
   "source": [
    "#list comprehension style\n",
    "a_fruits = [fruit for fruit in fruits if \"a\" in fruit]\n",
    "print(a_fruits)"
   ]
  },
  {
   "cell_type": "code",
   "execution_count": 17,
   "id": "7ac2173f",
   "metadata": {
    "ExecuteTime": {
     "end_time": "2023-06-20T15:40:46.061218Z",
     "start_time": "2023-06-20T15:40:46.051895Z"
    }
   },
   "outputs": [
    {
     "name": "stdout",
     "output_type": "stream",
     "text": [
      "['apple', 'banana', 'date', 'grape', 'indian prune', 'jackfruit', 'mango', 'nectarine', 'orange', 'pineapple', 'raspberry', 'strawberry', 'tangerine', 'victoria plum', 'watermelon', 'xigua', 'yellow passionfruit']\n"
     ]
    }
   ],
   "source": [
    "#loop style\n",
    "def a_fruits_func(fruits_list):\n",
    "    a_fruits_loop = []\n",
    "    for fruit in fruits_list:\n",
    "        if \"a\" in fruit:\n",
    "            a_fruits_loop.append(fruit)\n",
    "    return a_fruits_loop\n",
    "\n",
    "print(a_fruits_func(fruits))"
   ]
  },
  {
   "cell_type": "code",
   "execution_count": 18,
   "id": "f3f1870d",
   "metadata": {
    "ExecuteTime": {
     "end_time": "2023-06-20T15:40:46.073637Z",
     "start_time": "2023-06-20T15:40:46.062478Z"
    }
   },
   "outputs": [
    {
     "data": {
      "text/plain": [
       "True"
      ]
     },
     "execution_count": 18,
     "metadata": {},
     "output_type": "execute_result"
    }
   ],
   "source": [
    "a_fruits == a_fruits_func(fruits)"
   ]
  },
  {
   "cell_type": "markdown",
   "id": "6eba3ce5",
   "metadata": {
    "ExecuteTime": {
     "end_time": "2023-06-16T11:12:20.070099Z",
     "start_time": "2023-06-16T11:12:20.065489Z"
    }
   },
   "source": [
    "5.Заданий список чисел. Створіть новий список на основі заданоо за наступною логікою\n",
    "- якщо число більше або дорівнює 45, то в новий список додаємо це число + 5. Наприклад, для числа 50 вихідного списку, в новий ми додамо число 55\n",
    "- інакше - це число - 4. Наприклад, для числа 30 вихідного списку, в новий ми додамо число 26  \n",
    "\n",
    "Виведіть отриманий список на екран.\n",
    "\n",
    "Реалізуйте логіку через цикл та через `list comprehension` - двома способами окремо."
   ]
  },
  {
   "cell_type": "code",
   "execution_count": 19,
   "id": "64c30414",
   "metadata": {
    "ExecuteTime": {
     "end_time": "2023-06-20T15:40:46.084579Z",
     "start_time": "2023-06-20T15:40:46.074694Z"
    }
   },
   "outputs": [],
   "source": [
    "input_list = [22, 13, 45, 50, 98, 69, 43, 44, 1]"
   ]
  },
  {
   "cell_type": "code",
   "execution_count": 20,
   "id": "0e3a8bcd",
   "metadata": {
    "ExecuteTime": {
     "end_time": "2023-06-20T15:40:46.096466Z",
     "start_time": "2023-06-20T15:40:46.085782Z"
    }
   },
   "outputs": [
    {
     "name": "stdout",
     "output_type": "stream",
     "text": [
      "[18, 9, 50, 55, 103, 74, 39, 40, -3]\n"
     ]
    }
   ],
   "source": [
    "#list comprehension style\n",
    "output_list = [i+5 if i >= 45 else i-4 for i in input_list]\n",
    "print(output_list)"
   ]
  },
  {
   "cell_type": "code",
   "execution_count": 21,
   "id": "612e7cd2",
   "metadata": {
    "ExecuteTime": {
     "end_time": "2023-06-20T15:40:46.109112Z",
     "start_time": "2023-06-20T15:40:46.097725Z"
    }
   },
   "outputs": [
    {
     "name": "stdout",
     "output_type": "stream",
     "text": [
      "[18, 9, 50, 55, 103, 74, 39, 40, -3]\n"
     ]
    }
   ],
   "source": [
    "#loop style\n",
    "output_list_loop = []\n",
    "for i in input_list:\n",
    "    if i >= 45:\n",
    "        output_list_loop.append(i+5)\n",
    "    else:\n",
    "        output_list_loop.append(i-4)\n",
    "print(output_list_loop)"
   ]
  },
  {
   "cell_type": "code",
   "execution_count": 22,
   "id": "4797098b",
   "metadata": {
    "ExecuteTime": {
     "end_time": "2023-06-20T15:40:46.121938Z",
     "start_time": "2023-06-20T15:40:46.110456Z"
    }
   },
   "outputs": [
    {
     "data": {
      "text/plain": [
       "True"
      ]
     },
     "execution_count": 22,
     "metadata": {},
     "output_type": "execute_result"
    }
   ],
   "source": [
    "output_list_loop == output_list"
   ]
  },
  {
   "cell_type": "markdown",
   "id": "3788acf1",
   "metadata": {},
   "source": [
    "6.Заданий список `input_list` з пропущеними значеннями. Напишіть логіку, за якою ми будемо створювати новий список такий, що якщо значення None, то ми замість нього вставляємо 0, інакше - елемент вихідного спику.\n",
    "Тобто зі списку [1, None, 2] за цією логікою ми отримаємо [1, 0, 2] у новому списку.\n",
    "\n",
    "Виведіть отриманий список на екран.\n",
    "\n",
    "Реалізуйте логіку через цикл та через list comprehension - двома способами окремо."
   ]
  },
  {
   "cell_type": "code",
   "execution_count": 23,
   "id": "7124a4c2",
   "metadata": {
    "ExecuteTime": {
     "end_time": "2023-06-20T15:40:46.133980Z",
     "start_time": "2023-06-20T15:40:46.123047Z"
    }
   },
   "outputs": [],
   "source": [
    "input_list = [22, None, 13, None, None, 45, 50, 98, None, 69, 43, 44, 1, None]"
   ]
  },
  {
   "cell_type": "code",
   "execution_count": 24,
   "id": "e7212a8c",
   "metadata": {
    "ExecuteTime": {
     "end_time": "2023-06-20T15:40:46.145512Z",
     "start_time": "2023-06-20T15:40:46.135259Z"
    }
   },
   "outputs": [
    {
     "name": "stdout",
     "output_type": "stream",
     "text": [
      "[22, 0, 13, 0, 0, 45, 50, 98, 0, 69, 43, 44, 1, 0]\n"
     ]
    }
   ],
   "source": [
    "#list comprehension style\n",
    "output_list = [el if el != None else 0 for el in input_list]\n",
    "print(output_list)"
   ]
  },
  {
   "cell_type": "code",
   "execution_count": 25,
   "id": "ffb88754",
   "metadata": {
    "ExecuteTime": {
     "end_time": "2023-06-20T15:40:46.157226Z",
     "start_time": "2023-06-20T15:40:46.146582Z"
    }
   },
   "outputs": [
    {
     "name": "stdout",
     "output_type": "stream",
     "text": [
      "[22, 0, 13, 0, 0, 45, 50, 98, 0, 69, 43, 44, 1, 0]\n"
     ]
    }
   ],
   "source": [
    "#loop style\n",
    "output_list_loop = []\n",
    "for i in input_list:\n",
    "    if i != None:\n",
    "        output_list_loop.append(i)\n",
    "    else:\n",
    "        output_list_loop.append(0)\n",
    "print(output_list_loop)"
   ]
  },
  {
   "cell_type": "code",
   "execution_count": 26,
   "id": "1449fc82",
   "metadata": {
    "ExecuteTime": {
     "end_time": "2023-06-20T15:40:46.171109Z",
     "start_time": "2023-06-20T15:40:46.158282Z"
    }
   },
   "outputs": [
    {
     "data": {
      "text/plain": [
       "True"
      ]
     },
     "execution_count": 26,
     "metadata": {},
     "output_type": "execute_result"
    }
   ],
   "source": [
    "output_list_loop == output_list"
   ]
  },
  {
   "cell_type": "markdown",
   "id": "6d491849",
   "metadata": {},
   "source": [
    "7.Заданий клас, який описує коло та вміє рахувати площу кола по заданому радіусу. Створіть два кола з радіусами 5 і 11. Обчислість з допомогою функціоналу класу площі цих двох кіл і виведіть результати на екран."
   ]
  },
  {
   "cell_type": "code",
   "execution_count": 27,
   "id": "fa5b47ac",
   "metadata": {
    "ExecuteTime": {
     "end_time": "2023-06-20T15:40:46.182850Z",
     "start_time": "2023-06-20T15:40:46.172218Z"
    }
   },
   "outputs": [],
   "source": [
    "import math\n",
    "\n",
    "class Circle:\n",
    "    def __init__(self, radius):\n",
    "        self.radius = radius\n",
    "\n",
    "    def calculate_area(self):\n",
    "        return round(math.pi * self.radius ** 2, 2)"
   ]
  },
  {
   "cell_type": "code",
   "execution_count": 28,
   "id": "2bcdc94a",
   "metadata": {
    "ExecuteTime": {
     "end_time": "2023-06-20T15:40:46.195560Z",
     "start_time": "2023-06-20T15:40:46.184784Z"
    }
   },
   "outputs": [
    {
     "name": "stdout",
     "output_type": "stream",
     "text": [
      "78.54 380.13\n"
     ]
    }
   ],
   "source": [
    "circle_1 = Circle(5)\n",
    "circle_2 = Circle(11)\n",
    "\n",
    "print(circle_1.calculate_area(), circle_2.calculate_area())"
   ]
  },
  {
   "cell_type": "markdown",
   "id": "430f698b",
   "metadata": {},
   "source": [
    "8.Додайте в клас `Circle`, визначений в попередньому завданні, метод для обчислення периметра `calculate_perimeter` з округленням до двох цифр після коми. Периметр кола рахується за формулою `C = 2 · π · r`, де π - це значення числа Пі, яке ми можемо отримати з math.pi, а r - радіус кола. Спопіюйте визначення класу і додайте в нього новий метод. Після цього створіть нові кола з радіусами 5 і 11 та обчисліть їх периметри.   \n",
    "Увага: нам треба додати новий метод, але ми нічого не видаляємо :)"
   ]
  },
  {
   "cell_type": "code",
   "execution_count": 29,
   "id": "731544fd",
   "metadata": {
    "ExecuteTime": {
     "end_time": "2023-06-20T15:40:46.207254Z",
     "start_time": "2023-06-20T15:40:46.197012Z"
    }
   },
   "outputs": [],
   "source": [
    "import math\n",
    "\n",
    "class Circle:\n",
    "    def __init__(self, radius):\n",
    "        self.radius = radius\n",
    "\n",
    "    def calculate_area(self):\n",
    "        return round(math.pi * self.radius ** 2, 2)\n",
    "    \n",
    "    def calculate_perimeter(self):\n",
    "        return round(2*math.pi*self.radius, 2)"
   ]
  },
  {
   "cell_type": "code",
   "execution_count": 30,
   "id": "fde77eec",
   "metadata": {
    "ExecuteTime": {
     "end_time": "2023-06-20T15:40:46.218952Z",
     "start_time": "2023-06-20T15:40:46.208648Z"
    }
   },
   "outputs": [
    {
     "name": "stdout",
     "output_type": "stream",
     "text": [
      "31.42 69.12\n"
     ]
    }
   ],
   "source": [
    "circle_3 = Circle(5)\n",
    "circle_4 = Circle(11)\n",
    "\n",
    "print(circle_3.calculate_perimeter(), circle_4.calculate_perimeter())"
   ]
  },
  {
   "cell_type": "markdown",
   "id": "4a39e47f",
   "metadata": {},
   "source": [
    "9.Створіть клас під назвою `Student`, який має два атрибути: `name` (ім'я) та `grade` (оцінка). Оцінкою може були літера - з набору  [\"F\", \"D\", \"C\", \"B\", \"A\"], де \"А\" - найвища оцінка, \"F\" - найнижча.  Клас повинен мати наступні функціональні можливості:\n",
    "\n",
    "1. Метод `__init__`, який ініціалізує `name` та `grade`.\n",
    "2. Метод `display_student()`, який відображає ім'я та оцінку студента з допомогою `print`. Форматування - на Ваш розсуд.\n",
    "3. Метод `upgrade_grade()`, який підвищує оцінку на 1 рівень (наприклад, з \"B\" на \"A\"), якщо вона вже не \"A\". Якщо вже \"А\", то необхідно вивести повідомлення про те, що оцінка не може бути підвищена, оскільки вона вже і так найвища.\n",
    "\n",
    "Після створення класу, створіть 2 екземпляри `Student` з вигаданими імʼями та оцінками, і перевірте роботу методів `display_student()` та `upgrade_grade()`. Виведіть результат перевірки на екран."
   ]
  },
  {
   "cell_type": "code",
   "execution_count": 39,
   "id": "51ef0571",
   "metadata": {
    "ExecuteTime": {
     "end_time": "2023-06-20T15:41:27.675063Z",
     "start_time": "2023-06-20T15:41:27.668863Z"
    }
   },
   "outputs": [],
   "source": [
    "class Student:\n",
    "    def __init__(self, name, grade):\n",
    "        self.name = name\n",
    "        self.grade = grade\n",
    "        \n",
    "        \n",
    "    def display_student(self):\n",
    "        return f\"Student {self.name} has the grade {self.grade}.\"\n",
    "    \n",
    "    def upgrade_grade(self):\n",
    "        grades_list = [\"F\", \"D\", \"C\", \"B\", \"A\"]\n",
    "        if self.grade != \"A\":\n",
    "            old_idx = grades_list.index(self.grade)\n",
    "            self.new_grade = grades_list[old_idx+1]\n",
    "            return f\"Your new grade is {self.new_grade}.\"\n",
    "        else:\n",
    "            return \"You're a hardworking one! You grade is already A.\"\n",
    "        "
   ]
  },
  {
   "cell_type": "code",
   "execution_count": 40,
   "id": "76654b35",
   "metadata": {
    "ExecuteTime": {
     "end_time": "2023-06-20T15:41:27.969217Z",
     "start_time": "2023-06-20T15:41:27.964542Z"
    }
   },
   "outputs": [],
   "source": [
    "std_1 = Student(\"Alex\", \"B\")\n",
    "std_2 = Student(\"Chase\", \"F\")\n",
    "std_3 = Student(\"John\", \"A\")"
   ]
  },
  {
   "cell_type": "code",
   "execution_count": 41,
   "id": "abfaf6d0",
   "metadata": {
    "ExecuteTime": {
     "end_time": "2023-06-20T15:41:28.591672Z",
     "start_time": "2023-06-20T15:41:28.586124Z"
    }
   },
   "outputs": [
    {
     "name": "stdout",
     "output_type": "stream",
     "text": [
      "Student Alex has the grade B.\n",
      "Student Chase has the grade F.\n",
      "Student John has the grade A.\n"
     ]
    }
   ],
   "source": [
    "print(std_1.display_student(), std_2.display_student(), std_3.display_student(), sep=\"\\n\")"
   ]
  },
  {
   "cell_type": "code",
   "execution_count": 42,
   "id": "1ff32bc8",
   "metadata": {
    "ExecuteTime": {
     "end_time": "2023-06-20T15:41:29.647373Z",
     "start_time": "2023-06-20T15:41:29.642824Z"
    }
   },
   "outputs": [
    {
     "name": "stdout",
     "output_type": "stream",
     "text": [
      "Your new grade is A.\n",
      "Your new grade is D.\n",
      "You're a hardworking one! You grade is already A.\n"
     ]
    }
   ],
   "source": [
    "print(std_1.upgrade_grade(), std_2.upgrade_grade(), std_3.upgrade_grade(), sep=\"\\n\")"
   ]
  },
  {
   "cell_type": "markdown",
   "id": "fbf61911",
   "metadata": {},
   "source": [
    "10.Створіть клас з назвою `GraduateStudent`, який є нащадком класу `Student` з попереднього завдання.\n",
    "Клас `GraduateStudent` повинен мати додатковий атрибут `thesis_title` (назва дисертації - тип str). Тобто цей атрибут має зʼявитись при ініціації екземпляру класу.  \n",
    "Він також повинен мати метод `display_thesis()`, який виводить назву дисертації.\n",
    "\n",
    "Після створення класу, створіть екземпляр `GraduateStudent` і перевірте роботу методів `display_student()`, `upgrade_grade()`, та `display_thesis()`. Виведіть результат перевірки на екран.\n",
    "\n"
   ]
  },
  {
   "cell_type": "code",
   "execution_count": 37,
   "id": "aafe9159",
   "metadata": {
    "ExecuteTime": {
     "end_time": "2023-06-20T15:41:11.467148Z",
     "start_time": "2023-06-20T15:41:11.464452Z"
    }
   },
   "outputs": [],
   "source": [
    "class GraduateStudent(Student):\n",
    "    def __init__(self, name, grade, thesis_title):\n",
    "        super().__init__(name, grade)\n",
    "        self.thesis_title = thesis_title\n",
    "    \n",
    "    def display_thesis(self):\n",
    "        return f\"Congrats, {self.name}! You're the graduate now. Your thesis title is '{self.thesis_title}'\""
   ]
  },
  {
   "cell_type": "code",
   "execution_count": 45,
   "id": "a2389576",
   "metadata": {
    "ExecuteTime": {
     "end_time": "2023-06-20T15:44:09.558116Z",
     "start_time": "2023-06-20T15:44:09.552422Z"
    }
   },
   "outputs": [
    {
     "name": "stdout",
     "output_type": "stream",
     "text": [
      "Congrats, Jessy! You're the graduate now. Your thesis title is 'Analysis of non-linear processes in thin films.'\n"
     ]
    }
   ],
   "source": [
    "std_4 = GraduateStudent(\"Jessy\", \"A\", \"Analysis of non-linear processes in thin films.\")\n",
    "\n",
    "print(std_4.display_thesis())"
   ]
  },
  {
   "cell_type": "code",
   "execution_count": null,
   "id": "e2863b5f",
   "metadata": {},
   "outputs": [],
   "source": []
  }
 ],
 "metadata": {
  "kernelspec": {
   "display_name": "Python 3 (ipykernel)",
   "language": "python",
   "name": "python3"
  },
  "language_info": {
   "codemirror_mode": {
    "name": "ipython",
    "version": 3
   },
   "file_extension": ".py",
   "mimetype": "text/x-python",
   "name": "python",
   "nbconvert_exporter": "python",
   "pygments_lexer": "ipython3",
   "version": "3.9.12"
  },
  "toc": {
   "base_numbering": 1,
   "nav_menu": {},
   "number_sections": true,
   "sideBar": true,
   "skip_h1_title": false,
   "title_cell": "Table of Contents",
   "title_sidebar": "Contents",
   "toc_cell": false,
   "toc_position": {},
   "toc_section_display": true,
   "toc_window_display": false
  }
 },
 "nbformat": 4,
 "nbformat_minor": 5
}
