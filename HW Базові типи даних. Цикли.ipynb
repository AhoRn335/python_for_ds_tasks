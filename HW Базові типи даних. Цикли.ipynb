{
 "cells": [
  {
   "cell_type": "markdown",
   "id": "5b1cae7d",
   "metadata": {},
   "source": [
    "1.Задане значення у змінній var. Перетворіть значення в змінній var на цілочисельне, запишіть в нову змінну `var_int` та виведіть тип нової змінної `var_int`."
   ]
  },
  {
   "cell_type": "code",
   "execution_count": 1,
   "id": "d93f77ed",
   "metadata": {
    "ExecuteTime": {
     "end_time": "2023-06-20T06:00:45.149993Z",
     "start_time": "2023-06-20T06:00:45.147564Z"
    }
   },
   "outputs": [],
   "source": [
    "var = '1224'"
   ]
  },
  {
   "cell_type": "code",
   "execution_count": 2,
   "id": "5a4afe8f",
   "metadata": {
    "ExecuteTime": {
     "end_time": "2023-06-20T06:00:45.161974Z",
     "start_time": "2023-06-20T06:00:45.152420Z"
    }
   },
   "outputs": [
    {
     "data": {
      "text/plain": [
       "1224"
      ]
     },
     "metadata": {},
     "output_type": "display_data"
    },
    {
     "data": {
      "text/plain": [
       "int"
      ]
     },
     "metadata": {},
     "output_type": "display_data"
    }
   ],
   "source": [
    "var_int = int(var)\n",
    "display(var_int, type(var_int))"
   ]
  },
  {
   "cell_type": "markdown",
   "id": "eb3d19d8",
   "metadata": {
    "ExecuteTime": {
     "end_time": "2023-06-13T13:00:19.611699Z",
     "start_time": "2023-06-13T13:00:19.607737Z"
    }
   },
   "source": [
    "2.У Вас є список слів. Виведіть кожне третє слово в списку."
   ]
  },
  {
   "cell_type": "code",
   "execution_count": 3,
   "id": "477f4ced",
   "metadata": {
    "ExecuteTime": {
     "end_time": "2023-06-20T06:00:45.168638Z",
     "start_time": "2023-06-20T06:00:45.163003Z"
    }
   },
   "outputs": [],
   "source": [
    "words = [\"apple\", \"banana\", \"cherry\", \"date\", \"elderberry\", \"fig\", \"grape\", \"honeydew\", \"ice cream\", \"jackfruit\", \"kiwi\", \"lemon\", \"mango\", \"nectarine\", \"orange\", \"pineapple\", \"quince\", \"raspberry\", \"strawberry\", \"tangerine\", \"ugli fruit\", \"vanilla\", \"watermelon\", \"xigua\", \"yam\", \"zucchini\"]"
   ]
  },
  {
   "cell_type": "code",
   "execution_count": 4,
   "id": "1b73ca2f",
   "metadata": {
    "ExecuteTime": {
     "end_time": "2023-06-20T06:00:45.177737Z",
     "start_time": "2023-06-20T06:00:45.169780Z"
    }
   },
   "outputs": [
    {
     "data": {
      "text/plain": [
       "['cherry',\n",
       " 'fig',\n",
       " 'ice cream',\n",
       " 'lemon',\n",
       " 'orange',\n",
       " 'raspberry',\n",
       " 'ugli fruit',\n",
       " 'xigua']"
      ]
     },
     "execution_count": 4,
     "metadata": {},
     "output_type": "execute_result"
    }
   ],
   "source": [
    "words[2::3]"
   ]
  },
  {
   "cell_type": "markdown",
   "id": "394d1dea",
   "metadata": {},
   "source": [
    "3.Скільки всього СЛІВ у списку `words`?"
   ]
  },
  {
   "cell_type": "code",
   "execution_count": 5,
   "id": "83c88182",
   "metadata": {
    "ExecuteTime": {
     "end_time": "2023-06-20T06:00:45.185854Z",
     "start_time": "2023-06-20T06:00:45.179048Z"
    }
   },
   "outputs": [
    {
     "data": {
      "text/plain": [
       "26"
      ]
     },
     "execution_count": 5,
     "metadata": {},
     "output_type": "execute_result"
    }
   ],
   "source": [
    "len(words)"
   ]
  },
  {
   "cell_type": "markdown",
   "id": "703d1620",
   "metadata": {
    "ExecuteTime": {
     "end_time": "2023-06-13T13:03:17.414285Z",
     "start_time": "2023-06-13T13:03:17.409285Z"
    }
   },
   "source": [
    "4.Скільки всього ЛІТЕР в усіх словах у списку words?"
   ]
  },
  {
   "cell_type": "code",
   "execution_count": 6,
   "id": "409a5796",
   "metadata": {
    "ExecuteTime": {
     "end_time": "2023-06-20T06:00:45.193782Z",
     "start_time": "2023-06-20T06:00:45.187178Z"
    }
   },
   "outputs": [
    {
     "name": "stdout",
     "output_type": "stream",
     "text": [
      "ice cream 8\n",
      "ugli fruit 20\n"
     ]
    }
   ],
   "source": [
    "for word in words:\n",
    "    if \" \" in word:\n",
    "        print(word, words.index(word))"
   ]
  },
  {
   "cell_type": "code",
   "execution_count": 7,
   "id": "465dd950",
   "metadata": {
    "ExecuteTime": {
     "end_time": "2023-06-20T06:00:45.201974Z",
     "start_time": "2023-06-20T06:00:45.194929Z"
    }
   },
   "outputs": [
    {
     "data": {
      "text/plain": [
       "'elderberry'"
      ]
     },
     "execution_count": 7,
     "metadata": {},
     "output_type": "execute_result"
    }
   ],
   "source": [
    "words[8].strip()\n",
    "words[8].replace(\" \", \"\")\n",
    "words[4].replace(\" \", \"\")"
   ]
  },
  {
   "cell_type": "code",
   "execution_count": 8,
   "id": "c44d04d9",
   "metadata": {
    "ExecuteTime": {
     "end_time": "2023-06-20T06:00:45.209646Z",
     "start_time": "2023-06-20T06:00:45.203149Z"
    }
   },
   "outputs": [
    {
     "data": {
      "text/plain": [
       "178"
      ]
     },
     "execution_count": 8,
     "metadata": {},
     "output_type": "execute_result"
    }
   ],
   "source": [
    "sum([len(word.replace(\" \", \"\")) for word in words])"
   ]
  },
  {
   "cell_type": "markdown",
   "id": "4c95f6a3",
   "metadata": {},
   "source": [
    "5.Скільки разів зустрічається кожна літера в усіх словах списку `words`? Відсортуйте літери в результуючому словнику за алфавітним порядком."
   ]
  },
  {
   "cell_type": "code",
   "execution_count": 9,
   "id": "f6cff6cb",
   "metadata": {
    "ExecuteTime": {
     "end_time": "2023-06-20T06:00:45.216328Z",
     "start_time": "2023-06-20T06:00:45.210613Z"
    }
   },
   "outputs": [],
   "source": [
    "letters = []\n",
    "for word in words:\n",
    "    for letter in word:\n",
    "        letters.append(letter)"
   ]
  },
  {
   "cell_type": "code",
   "execution_count": null,
   "id": "df666a00",
   "metadata": {
    "ExecuteTime": {
     "end_time": "2023-06-19T14:51:15.115661Z",
     "start_time": "2023-06-19T14:51:15.105382Z"
    }
   },
   "outputs": [],
   "source": []
  },
  {
   "cell_type": "code",
   "execution_count": 10,
   "id": "a80dc850",
   "metadata": {
    "ExecuteTime": {
     "end_time": "2023-06-20T06:00:45.225374Z",
     "start_time": "2023-06-20T06:00:45.217226Z"
    }
   },
   "outputs": [
    {
     "data": {
      "text/plain": [
       "{' ': 2,\n",
       " 'a': 20,\n",
       " 'b': 4,\n",
       " 'c': 8,\n",
       " 'd': 3,\n",
       " 'e': 24,\n",
       " 'f': 3,\n",
       " 'g': 7,\n",
       " 'h': 3,\n",
       " 'i': 15,\n",
       " 'j': 1,\n",
       " 'k': 2,\n",
       " 'l': 8,\n",
       " 'm': 5,\n",
       " 'n': 15,\n",
       " 'o': 5,\n",
       " 'p': 7,\n",
       " 'q': 1,\n",
       " 'r': 19,\n",
       " 's': 2,\n",
       " 't': 7,\n",
       " 'u': 6,\n",
       " 'v': 1,\n",
       " 'w': 4,\n",
       " 'x': 1,\n",
       " 'y': 6,\n",
       " 'z': 1}"
      ]
     },
     "execution_count": 10,
     "metadata": {},
     "output_type": "execute_result"
    }
   ],
   "source": [
    "sorted_letters = {letter: letters.count(letter) for letter in sorted(letters)}\n",
    "sorted_letters"
   ]
  },
  {
   "cell_type": "markdown",
   "id": "94d9f1cc",
   "metadata": {},
   "source": [
    "Очікуваний результат: \n",
    "```\n",
    "{' ': 2,\n",
    " 'a': 20,\n",
    " 'b': 4,\n",
    " 'c': 8,\n",
    " 'd': 3,\n",
    " 'e': 24,\n",
    " 'f': 3,\n",
    " 'g': 7,\n",
    " 'h': 3,\n",
    " 'i': 15,\n",
    " 'j': 1,\n",
    " 'k': 2,\n",
    " 'l': 8,\n",
    " 'm': 5,\n",
    " 'n': 15,\n",
    " 'o': 5,\n",
    " 'p': 7,\n",
    " 'q': 1,\n",
    " 'r': 19,\n",
    " 's': 2,\n",
    " 't': 7,\n",
    " 'u': 6,\n",
    " 'v': 1,\n",
    " 'w': 4,\n",
    " 'x': 1,\n",
    " 'y': 6,\n",
    " 'z': 1}\n",
    " ```"
   ]
  },
  {
   "cell_type": "markdown",
   "id": "c93ac384",
   "metadata": {},
   "source": [
    "6.Використовуючи результат виконання попереднього завдання, виведіть на екран ту літеру, яка зустрічається найчастіше і скільки разів вона зустрічається. Це треба зробити програмно, а не просто подививщись на дані :) "
   ]
  },
  {
   "cell_type": "code",
   "execution_count": 28,
   "id": "9ddfb851",
   "metadata": {
    "ExecuteTime": {
     "end_time": "2023-06-20T06:07:42.897165Z",
     "start_time": "2023-06-20T06:07:42.893084Z"
    }
   },
   "outputs": [],
   "source": [
    "max_count = max(sorted_letters.values())\n",
    "letter_with_max_count = ''.join({i for i in sorted_letters if sorted_letters[i] == max_count})"
   ]
  },
  {
   "cell_type": "code",
   "execution_count": 29,
   "id": "bd8ebdf3",
   "metadata": {
    "ExecuteTime": {
     "end_time": "2023-06-20T06:07:43.270370Z",
     "start_time": "2023-06-20T06:07:43.263826Z"
    }
   },
   "outputs": [
    {
     "data": {
      "text/plain": [
       "(24, 'e')"
      ]
     },
     "execution_count": 29,
     "metadata": {},
     "output_type": "execute_result"
    }
   ],
   "source": [
    "max_count, letter_with_max_count"
   ]
  },
  {
   "cell_type": "code",
   "execution_count": 30,
   "id": "1ba7059a",
   "metadata": {
    "ExecuteTime": {
     "end_time": "2023-06-20T06:08:00.591420Z",
     "start_time": "2023-06-20T06:08:00.588218Z"
    }
   },
   "outputs": [
    {
     "data": {
      "text/plain": [
       "'e'"
      ]
     },
     "execution_count": 30,
     "metadata": {},
     "output_type": "execute_result"
    }
   ],
   "source": [
    "letter_with_max_count"
   ]
  },
  {
   "cell_type": "markdown",
   "id": "f40adbed",
   "metadata": {},
   "source": [
    "7.Для кожного елементу списку виведіть тип елемену. Якщо тип обʼєкту - int (тільки цей тип безпосередньо!), виведіть результат піднесення цього числа до степеню 5."
   ]
  },
  {
   "cell_type": "code",
   "execution_count": 31,
   "id": "f92249ac",
   "metadata": {
    "ExecuteTime": {
     "end_time": "2023-06-20T06:12:36.256258Z",
     "start_time": "2023-06-20T06:12:36.254222Z"
    }
   },
   "outputs": [],
   "source": [
    "elements = [12, 'type', 'Bob', True, 'False', 1.414, 1444.333, 123/33, 5]"
   ]
  },
  {
   "cell_type": "code",
   "execution_count": 34,
   "id": "96b72186",
   "metadata": {
    "ExecuteTime": {
     "end_time": "2023-06-20T06:13:48.228070Z",
     "start_time": "2023-06-20T06:13:48.221130Z"
    }
   },
   "outputs": [
    {
     "name": "stdout",
     "output_type": "stream",
     "text": [
      "The type of element 12 is <class 'int'>\n",
      "This is a number! Let's take it power 5! The result is: 248832\n",
      "The type of element type is <class 'str'>\n",
      "The type of element Bob is <class 'str'>\n",
      "The type of element True is <class 'bool'>\n",
      "The type of element False is <class 'str'>\n",
      "The type of element 1.414 is <class 'float'>\n",
      "The type of element 1444.333 is <class 'float'>\n",
      "The type of element 3.727272727272727 is <class 'float'>\n",
      "The type of element 5 is <class 'int'>\n",
      "This is a number! Let's take it power 5! The result is: 3125\n"
     ]
    }
   ],
   "source": [
    "for el in elements:\n",
    "    if type(el) == int:\n",
    "        power = 5 #in case we will change the power\n",
    "        power_of_el = pow(el, 5)\n",
    "        print(f\"The type of element {el} is {type(el)}\")\n",
    "        print(f\"This is a number! Let's take it power {power}! The result is: {power_of_el}\")\n",
    "    else:\n",
    "        print(f\"The type of element {el} is {type(el)}\")"
   ]
  },
  {
   "cell_type": "markdown",
   "id": "cf2247c7",
   "metadata": {
    "ExecuteTime": {
     "end_time": "2023-06-13T12:55:17.795510Z",
     "start_time": "2023-06-13T12:55:17.787158Z"
    }
   },
   "source": [
    "Приклад очікуваного результату (текстові коментарі і форматування можуть бути іншими):\n",
    "```\n",
    "    The type of element 12 is <class 'int'>\n",
    "    This is a number! Let't take it to power 5! The result is: 248832\n",
    "    The type of element type is <class 'str'>\n",
    "    The type of element Bob is <class 'str'>\n",
    "    The type of element True is <class 'bool'>\n",
    "    The type of element False is <class 'str'>\n",
    "    The type of element 1.414 is <class 'float'>\n",
    "    The type of element 1444.333 is <class 'float'>\n",
    "    The type of element 3.727272727272727 is <class 'float'>\n",
    "    The type of element 5 is <class 'int'>\n",
    "    This is a number! Let't take it to power 5! The result is: 3125\n",
    "```"
   ]
  },
  {
   "cell_type": "markdown",
   "id": "76a0bef2",
   "metadata": {},
   "source": [
    "8.Створіть програму, яка:\n",
    "\n",
    "- Для визначених значень `name` та `age` друкує повідомлення \"Привіт, [Ім’я] ! Вам [Вік] років.\".\n",
    "- Обчислює, скільки років залишилося користувачеві до 100 років, і друкує повідомлення з цією інформацією: \"До 100 років Вам лишилось [Число] років.\"  \n",
    "\n",
    "Запустіть програму для набору користувачів нижче."
   ]
  },
  {
   "cell_type": "code",
   "execution_count": 14,
   "id": "0092963a",
   "metadata": {
    "ExecuteTime": {
     "end_time": "2023-06-20T06:00:45.257640Z",
     "start_time": "2023-06-20T06:00:45.250464Z"
    }
   },
   "outputs": [],
   "source": [
    "users = [\n",
    "    ['Karl', 30],\n",
    "    ['Klara', 15],\n",
    "    ['Alexis', 56],\n",
    "    ['Charles', 99]\n",
    "]"
   ]
  },
  {
   "cell_type": "code",
   "execution_count": 37,
   "id": "8d6d820e",
   "metadata": {
    "ExecuteTime": {
     "end_time": "2023-06-20T06:19:16.528051Z",
     "start_time": "2023-06-20T06:19:16.525539Z"
    }
   },
   "outputs": [
    {
     "name": "stdout",
     "output_type": "stream",
     "text": [
      "Привіт, Karl! Вам 30 років.\n",
      "До 100 років Вам лишилось 70 років.\n",
      "Привіт, Klara! Вам 15 років.\n",
      "До 100 років Вам лишилось 85 років.\n",
      "Привіт, Alexis! Вам 56 років.\n",
      "До 100 років Вам лишилось 44 років.\n",
      "Привіт, Charles! Вам 99 років.\n",
      "До 100 років Вам лишилось 1 років.\n"
     ]
    }
   ],
   "source": [
    "for user in users:\n",
    "    name, age = user[0], user[1]\n",
    "    years_to_100 = 100 - age\n",
    "    print(f\"Привіт, {name}! Вам {age} років.\")\n",
    "    print(f\"До 100 років Вам лишилось {years_to_100} років.\") #буде корявенько для чисел, які вимагають після себе \"рік\" та \"роки\""
   ]
  },
  {
   "cell_type": "markdown",
   "id": "45fedbc4",
   "metadata": {},
   "source": [
    "9.Напишть фрагмент коду, який перевіряє, чи слово є паліндромом. Слово (або фраза) є паліндромом, якщо при читанні його зворотньому напрямі буде таке саме слово.\n",
    "Наприклад, слово \"radar\" є паліндромом, але \"radix\" не є паліндромом. Код в кінці має видавати результат True або False.  \n",
    "Код має звертати увагу лише на символи-літери. Регістр літер не має значення, а знаки пунктуації (кома, крапка) та `-+=/\\`` мають бути вилучені з рядка перед перевіркою. Так само, пробіли не впливають на визначення,чи слово є палендромом. Мають значення лише літери.\n",
    "Тобто рядки \"A mam, a\" та \"A mamA\" є паліндромами, а \"AmamU\" - ні.\n",
    "\n",
    "Опціонально ви можете розмістити код на перевірку чи є слово паліндромом у фукнцію.\n",
    "Запустіть свій код для рядків з набору нижче і виведіть результат перевірки на екран для кожного рядка."
   ]
  },
  {
   "cell_type": "code",
   "execution_count": 78,
   "id": "4cca3eed",
   "metadata": {
    "ExecuteTime": {
     "end_time": "2023-06-20T09:55:55.883326Z",
     "start_time": "2023-06-20T09:55:55.878486Z"
    }
   },
   "outputs": [],
   "source": [
    "phrases_to_check = [\n",
    "    'radar',\n",
    "    'radix',\n",
    "    'A mam, a',\n",
    "    'A mamA',\n",
    "    'Sit on a potato pan Otis',\n",
    "    'Taco cat.',\n",
    "    'Taco cat',\n",
    "    'Tornado',\n",
    "    \"Go hang a salami, I'm a lasagna hog.\"\n",
    "]"
   ]
  },
  {
   "cell_type": "code",
   "execution_count": 92,
   "id": "becbec3c",
   "metadata": {
    "ExecuteTime": {
     "end_time": "2023-06-20T10:02:50.930946Z",
     "start_time": "2023-06-20T10:02:50.924096Z"
    }
   },
   "outputs": [],
   "source": [
    "def is_palindrom(words):\n",
    "    punctuation = [\"=\", \",\", \"-\", \"+\", \"/\", \"'\", \"''\", \" \", \".\", \"!\", \"?\", \"&\"]\n",
    "    for word in words:\n",
    "        reduced_word = word.lower()\n",
    "        for el in punctuation:\n",
    "            if el in word:\n",
    "                reduced_word = reduced_word.replace(el, \"\")\n",
    "    \n",
    "        if reduced_word[:] == reduced_word[-1::-1]:\n",
    "            print(f\"{word} - True\")\n",
    "        else:\n",
    "            print(f\"{word} - False\")\n",
    "        \n",
    "        "
   ]
  },
  {
   "cell_type": "code",
   "execution_count": 93,
   "id": "0336a173",
   "metadata": {
    "ExecuteTime": {
     "end_time": "2023-06-20T10:02:51.305050Z",
     "start_time": "2023-06-20T10:02:51.300027Z"
    }
   },
   "outputs": [
    {
     "data": {
      "text/plain": [
       "'a ,mam A'"
      ]
     },
     "execution_count": 93,
     "metadata": {},
     "output_type": "execute_result"
    }
   ],
   "source": [
    "test_word = phrases_to_check[2] #an attempt to recal how to get backward order of elements in str/list\n",
    "test_word[-1::-1]"
   ]
  },
  {
   "cell_type": "code",
   "execution_count": 94,
   "id": "0e78e25e",
   "metadata": {
    "ExecuteTime": {
     "end_time": "2023-06-20T10:02:51.836988Z",
     "start_time": "2023-06-20T10:02:51.832686Z"
    }
   },
   "outputs": [
    {
     "name": "stdout",
     "output_type": "stream",
     "text": [
      "radar - True\n",
      "radix - False\n",
      "A mam, a - True\n",
      "A mamA - True\n",
      "Sit on a potato pan Otis - True\n",
      "Taco cat. - True\n",
      "Taco cat - True\n",
      "Tornado - False\n",
      "Go hang a salami, I'm a lasagna hog. - True\n"
     ]
    }
   ],
   "source": [
    "is_palindrom(phrases_to_check)"
   ]
  },
  {
   "cell_type": "markdown",
   "id": "e51c421d",
   "metadata": {},
   "source": [
    "Очкувані результати обчислень:\n",
    "```\n",
    "    radar - True\n",
    "    radix - False\n",
    "    A mam, a - True\n",
    "    A mamA - True\n",
    "    Sit on a potato pan Otis - True\n",
    "    Taco cat. - True\n",
    "    Taco cat - True\n",
    "    Tornado - False\n",
    "    Go hang a salami, I'm a lasagna hog. - True\n",
    "```"
   ]
  }
 ],
 "metadata": {
  "kernelspec": {
   "display_name": "Python 3 (ipykernel)",
   "language": "python",
   "name": "python3"
  },
  "language_info": {
   "codemirror_mode": {
    "name": "ipython",
    "version": 3
   },
   "file_extension": ".py",
   "mimetype": "text/x-python",
   "name": "python",
   "nbconvert_exporter": "python",
   "pygments_lexer": "ipython3",
   "version": "3.9.12"
  },
  "toc": {
   "base_numbering": 1,
   "nav_menu": {},
   "number_sections": true,
   "sideBar": true,
   "skip_h1_title": false,
   "title_cell": "Table of Contents",
   "title_sidebar": "Contents",
   "toc_cell": false,
   "toc_position": {},
   "toc_section_display": true,
   "toc_window_display": false
  }
 },
 "nbformat": 4,
 "nbformat_minor": 5
}
